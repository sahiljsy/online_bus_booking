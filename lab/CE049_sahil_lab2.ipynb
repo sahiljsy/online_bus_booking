{
 "cells": [
  {
   "cell_type": "code",
   "execution_count": 18,
   "metadata": {},
   "outputs": [
    {
     "name": "stdout",
     "output_type": "stream",
     "text": [
      "ramu\n",
      "shyamu\n",
      "kanu\n",
      "manu\n",
      "ramu\n",
      "radha\n",
      "manu\n"
     ]
    }
   ],
   "source": [
    "#program 1\n",
    "names = [\"ramu\", \"shyamu\", \"kanu\", \"manu\", \"ramu\", \"radha\", \"manu\"]\n",
    "for name in names:\n",
    "    print(name)\n"
   ]
  },
  {
   "cell_type": "code",
   "execution_count": 5,
   "metadata": {},
   "outputs": [
    {
     "name": "stdout",
     "output_type": "stream",
     "text": [
      "['ramu', 'shyamu', 'kanu', 'manu', 'radha']\n"
     ]
    }
   ],
   "source": [
    "#program 2\n",
    "names = [\"ramu\", \"shyamu\", \"kanu\", \"manu\", \"ramu\", \"radha\", \"manu\"]\n",
    "unique_names=[]\n",
    "for name in names:\n",
    "    if name not in unique_names:\n",
    "        unique_names.append(name)\n",
    "print(unique_names)\n"
   ]
  },
  {
   "cell_type": "code",
   "execution_count": 17,
   "metadata": {},
   "outputs": [
    {
     "name": "stdout",
     "output_type": "stream",
     "text": [
      "[1, 'ram', 18, '65%']\n",
      "[2, 'shyam', 17, '70%']\n",
      "after adding new record\n",
      "[1, 'ram', 18, '65%']\n",
      "[2, 'shyam', 17, '70%']\n",
      "[3, 'Radha', 17, '75%']\n"
     ]
    }
   ],
   "source": [
    "#program 3\n",
    "student_record = [[1, \"ram\", 18, \"65%\"] ,[2, \"shyam\", 17, \"70%\"]]\n",
    "for record in student_record:\n",
    "    print(record)\n",
    "student_record.extend([[3, \"Radha\", 17, \"75%\"]])\n",
    "print(\"after adding new record\")\n",
    "for record in student_record:\n",
    "    print(record)"
   ]
  },
  {
   "cell_type": "code",
   "execution_count": 39,
   "metadata": {},
   "outputs": [
    {
     "name": "stdout",
     "output_type": "stream",
     "text": [
      "how mAany student record do you want to insert? : 1\n",
      "enter namesahil\n",
      "student id4\n",
      "enter age18\n",
      "enter percentage90%\n"
     ]
    },
    {
     "data": {
      "text/plain": [
       "[[1, 'ram', 18, '65%'], [2, 'shyam', 17, '70%'], [4, 'sahil', 18, '90%']]"
      ]
     },
     "execution_count": 39,
     "metadata": {},
     "output_type": "execute_result"
    }
   ],
   "source": [
    "#program 4\n",
    "student_record = [[1, \"ram\", 18, \"65%\"] ,[2, \"shyam\", 17, \"70%\"]]\n",
    "x=input(\"how mAany student record do you want to insert? : \")\n",
    "name=\"\"\n",
    "stu_id=0\n",
    "age=0\n",
    "percentage=\"\"\n",
    "\n",
    "for i in range(0,int(x)):\n",
    "    name=input(\"enter name\")\n",
    "    stu_id=int(input(\"student id\"))\n",
    "    age=int(input(\"enter age\"))\n",
    "    percentage=input(\"enter percentage\")\n",
    "    student_record.extend([[stu_id,name , age, percentage]])\n",
    "student_record"
   ]
  },
  {
   "cell_type": "code",
   "execution_count": 37,
   "metadata": {},
   "outputs": [
    {
     "name": "stdout",
     "output_type": "stream",
     "text": [
      "how mAany student record do you want to insert? : 3\n",
      "enter namesahil\n",
      "student id3\n",
      "enter age18\n",
      "enter percentage90%\n",
      "enter nameyogesh\n",
      "student id4\n",
      "enter age19\n",
      "enter percentage85%\n",
      "enter namevarsha\n",
      "student id6\n",
      "enter age19\n",
      "enter percentage89%\n",
      "First five students record :\n"
     ]
    },
    {
     "data": {
      "text/plain": [
       "[[1, 'ram', 18, '65%'],\n",
       " [2, 'shyam', 17, '70%'],\n",
       " [3, 'sahil', 18, '90%'],\n",
       " [4, 'yogesh', 19, '85%'],\n",
       " [6, 'varsha', 19, '89%']]"
      ]
     },
     "execution_count": 37,
     "metadata": {},
     "output_type": "execute_result"
    }
   ],
   "source": [
    "#program 5\n",
    "student_record = [[1, \"ram\", 18, \"65%\"] ,[2, \"shyam\", 17, \"70%\"]]\n",
    "x=input(\"how mAany student record do you want to insert? : \")\n",
    "name=\"\"\n",
    "stu_id=0\n",
    "age=0\n",
    "percentage=\"\"\n",
    "\n",
    "for i in range(0,int(x)):\n",
    "    name=input(\"enter name\")\n",
    "    stu_id=int(input(\"student id\"))\n",
    "    age=int(input(\"enter age\"))\n",
    "    percentage=input(\"enter percentage\")\n",
    "    student_record.extend([[stu_id,name , age, percentage]])\n",
    "print(\"First five students record :\")\n",
    "student_record[:5]"
   ]
  },
  {
   "cell_type": "code",
   "execution_count": 160,
   "metadata": {},
   "outputs": [
    {
     "name": "stdout",
     "output_type": "stream",
     "text": [
      "Entre the student name : sahil\n",
      "[[1, 'ram', 18, '65%'], [2, 'shyam', 17, '70%'], [3, 'Radha', 17, '75%'], [6, 'jariwala', 18, '93%']]\n"
     ]
    }
   ],
   "source": [
    "#program 6\n",
    "student_record = [\n",
    "    [1, \"ram\", 18, \"65%\"] ,\n",
    "    [2, \"shyam\", 17, \"70%\"],\n",
    "    [3, \"Radha\", 17, \"75%\"],\n",
    "    [4, \"sahil\", 14, \"90%\"],\n",
    "    [6,\"jariwala\",18,\"93%\"] ]\n",
    "x=len(student_record)\n",
    "delete_record=input(\"Entre the student name : \")\n",
    "for row in range(0,x):\n",
    "    if student_record[row][1]==delete_record:\n",
    "        student_record.remove(student_record[row])\n",
    "        print(student_record)\n",
    "        break\n",
    "else:\n",
    "    print(\"record not found\")"
   ]
  },
  {
   "cell_type": "code",
   "execution_count": 59,
   "metadata": {},
   "outputs": [
    {
     "name": "stdout",
     "output_type": "stream",
     "text": [
      "gopi\n",
      "60\n"
     ]
    },
    {
     "data": {
      "text/plain": [
       "{'ram': 65, 'shyam': 75, 'radha': 35, 'gopi': 60}"
      ]
     },
     "execution_count": 59,
     "metadata": {},
     "output_type": "execute_result"
    }
   ],
   "source": [
    "#program 7\n",
    "d1 = {\"ram\":60, \"shyam\":70, \"radha\":70}\n",
    "d2 = {\"ram\":70, \"shyam\":80, \"gopi\":60}\n",
    "d3 = {}\n",
    "for key in d1:\n",
    "    y=int(d2.get(key,\"0\"))\n",
    "    avg = int((int(d1[key])+y)/2)\n",
    "    d3.update({key:avg})\n",
    "for key in d2:\n",
    "    x=int(d3.get(key,\"0\"))\n",
    "    if x==0:\n",
    "        d3.update({key:d2.get(key)})\n",
    "d3\n",
    "    \n",
    "    "
   ]
  },
  {
   "cell_type": "code",
   "execution_count": 164,
   "metadata": {},
   "outputs": [
    {
     "name": "stdout",
     "output_type": "stream",
     "text": [
      "sorted list according to name :\n",
      "[[6, 'jariwala', 18, '93%'], [3, 'radha', 17, '75%'], [1, 'ram', 18, '65%'], [4, 'sahil', 14, '90%'], [2, 'shyam', 17, '70%']]\n",
      "sorted list according to age :\n",
      "[[4, 'sahil', 14, '90%'], [3, 'radha', 17, '75%'], [2, 'shyam', 17, '70%'], [6, 'jariwala', 18, '93%'], [1, 'ram', 18, '65%']]\n",
      "sorted list according to percentage :\n",
      "[[1, 'ram', 18, '65%'], [2, 'shyam', 17, '70%'], [3, 'radha', 17, '75%'], [4, 'sahil', 14, '90%'], [6, 'jariwala', 18, '93%']]\n"
     ]
    }
   ],
   "source": [
    "#program 8\n",
    "student_record = [\n",
    "    [6,\"jariwala\",18,\"93%\"],\n",
    "    [1, \"ram\", 18, \"65%\"] ,\n",
    "    [2, \"shyam\", 17, \"70%\"],\n",
    "    [3, \"radha\", 17, \"75%\"],\n",
    "    [4, \"sahil\", 14, \"90%\"]\n",
    "     ]\n",
    "print(\"sorted list according to name :\")\n",
    "student_record.sort(key=lambda x:x[1])\n",
    "print(student_record)\n",
    "print(\"sorted list according to age :\")\n",
    "student_record.sort(key=lambda x:x[2])\n",
    "print(student_record)\n",
    "print(\"sorted list according to percentage :\")\n",
    "student_record.sort(key=lambda x:x[3])\n",
    "print(student_record)"
   ]
  },
  {
   "cell_type": "code",
   "execution_count": 139,
   "metadata": {},
   "outputs": [
    {
     "name": "stdout",
     "output_type": "stream",
     "text": [
      "Unique Values:  {'S005', 'S007', 'S002', 'S001', 'S009'}\n"
     ]
    }
   ],
   "source": [
    "#program 9\n",
    "list_dictionary=[\n",
    "    {\"V\":\"S001\"}, \n",
    "    {\"V\": \"S002\"}, \n",
    "    {\"VI\": \"S001\"}, \n",
    "    {\"VI\":\"S005\"},\n",
    "    {\"VII\":\"S005\"},\n",
    "    {\"V\":\"S009\"},\n",
    "    {\"VIII\":\"S007\"}]\n",
    "u_value = set( val for dic in list_dictionary for val in dic.values())\n",
    "print(\"Unique Values: \",u_value)\n"
   ]
  },
  {
   "cell_type": "code",
   "execution_count": 87,
   "metadata": {},
   "outputs": [
    {
     "name": "stdout",
     "output_type": "stream",
     "text": [
      "common in MAths and Physics : {9, 2}\n",
      "common in MAths and Chemistry : {1, 3, 5, 9}\n",
      "common in Chemistry and Physics : {9}\n",
      "common in all three :  {9}\n",
      "student who have taken only one subject : {4, 6, 7}\n"
     ]
    }
   ],
   "source": [
    "#program 10\n",
    "Maths = {1, 2, 3, 5, 7, 9}\n",
    "Physics = { 2, 4, 6, 9}\n",
    "Chemistry = {1, 3, 5, 9}\n",
    "maths_physics=Maths.intersection(Physics)\n",
    "maths_chemistry=Maths.intersection(Chemistry)\n",
    "physics_chemistry=Physics.intersection(Chemistry)\n",
    "all_three=physics_chemistry.intersection(Maths)\n",
    "z=Maths.symmetric_difference(Physics)\n",
    "y=z.symmetric_difference(Chemistry)\n",
    "only_one=all_three.symmetric_difference(y)\n",
    "print(\"common in MAths and Physics :\",maths_physics)\n",
    "print(\"common in MAths and Chemistry :\",maths_chemistry)\n",
    "print(\"common in Chemistry and Physics :\",physics_chemistry)\n",
    "print(\"common in all three : \",all_three)\n",
    "print(\"students who have taken only one subject :\",only_one)\n"
   ]
  },
  {
   "cell_type": "code",
   "execution_count": 96,
   "metadata": {},
   "outputs": [
    {
     "name": "stdout",
     "output_type": "stream",
     "text": [
      "x is : 50\n",
      "Change local x to : 2\n",
      "x is now : 50\n"
     ]
    }
   ],
   "source": [
    "#function program 1\n",
    "x=50\n",
    "def func(x):\n",
    "    print(\"x is :\" ,x )\n",
    "    x=2        #this create the local variable x this will no change the global var\n",
    "    print('Change local x to :',x)\n",
    "    return\n",
    "func(x)  # pass by value \n",
    "print(\"x is now :\",x)"
   ]
  },
  {
   "cell_type": "code",
   "execution_count": 103,
   "metadata": {},
   "outputs": [
    {
     "name": "stdout",
     "output_type": "stream",
     "text": [
      "First number :25\n",
      "Second number :152\n",
      "Third number :142\n",
      "maximum of 25 ,152 and 142 is \"152\"\n"
     ]
    }
   ],
   "source": [
    "#function program 2\n",
    "def max_number(x,y,z):\n",
    "    if x>y and x>z:\n",
    "        return x\n",
    "    elif y>x and y>z:\n",
    "        return y\n",
    "    else:\n",
    "        return z\n",
    "x=int(input(\"First number :\"))\n",
    "y=int(input(\"Second number :\"))\n",
    "z=int(input(\"Third number :\"))\n",
    "max=max_number(x,y,z)\n",
    "print(f'maximum of {x} ,{y} and {z} is \"{max}\"')\n"
   ]
  },
  {
   "cell_type": "code",
   "execution_count": 130,
   "metadata": {},
   "outputs": [
    {
     "name": "stdout",
     "output_type": "stream",
     "text": [
      "enter lower bound :1\n",
      "entre upper bound :20\n",
      "prime num between 1 to 20 are :\n",
      "2\n",
      "3\n",
      "5\n",
      "7\n",
      "11\n",
      "13\n",
      "17\n",
      "19\n"
     ]
    }
   ],
   "source": [
    "#function program 3\n",
    "def prime_number(lower,upper):\n",
    "    print(f\"prime num between {lower} to {upper} are :\")\n",
    "    for num in range(lower, upper + 1):\n",
    "        if num > 1:\n",
    "            for i in range(2, num):\n",
    "                if (num % i) == 0:\n",
    "                    break\n",
    "            else:\n",
    "                print(num )\n",
    "x=int(input(\"enter lower bound :\"))\n",
    "y=int(input(\"entre upper bound :\"))\n",
    "prime_number(x,y)\n"
   ]
  },
  {
   "cell_type": "code",
   "execution_count": 155,
   "metadata": {},
   "outputs": [
    {
     "name": "stdout",
     "output_type": "stream",
     "text": [
      "enter number:5\n",
      "entre second number:10\n",
      "number after swapping:x= 10 nad y= 5\n",
      "10 5\n"
     ]
    }
   ],
   "source": [
    "#function program 4\n",
    "def swap_no(x,y):\n",
    "    x,y=y,x\n",
    "    print(f\"number after swapping:x= {x} nad y= {y}\")\n",
    "    return x,y\n",
    "\n",
    "x=int(input(\"enter number:\"))\n",
    "y=int(input(\"entre second number:\"))\n",
    "x,y=swap_no(x,y)\n",
    "print(x,y)"
   ]
  },
  {
   "cell_type": "code",
   "execution_count": 131,
   "metadata": {},
   "outputs": [
    {
     "name": "stdout",
     "output_type": "stream",
     "text": [
      ">principal :100000\n",
      ">time :8\n",
      ">rate :6\n",
      "The principal is 100000\n",
      "The time period is 8\n",
      "The rate of interest is 6\n",
      ">>>>>>The Simple Interest is 48000.0\n",
      "The principal is 100000\n",
      "The time period is 8\n",
      "The rate of interest is 3.5\n",
      ">>>>>>The Simple Interest is 28000.0\n"
     ]
    },
    {
     "data": {
      "text/plain": [
       "28000.0"
      ]
     },
     "execution_count": 131,
     "metadata": {},
     "output_type": "execute_result"
    }
   ],
   "source": [
    "#function program 5\n",
    "def simple_intrest(p,t,r=3.5): \n",
    "    print('The principal is', p) \n",
    "    print('The time period is', t) \n",
    "    print('The rate of interest is',r)   \n",
    "    intrest = (p * t * r)/100 \n",
    "    print('>>>>>>The Simple Interest is', intrest) \n",
    "    return intrest \n",
    "principal=int(input(\">principal :\"))\n",
    "time=int(input(\">time :\"))\n",
    "rate =int(input(\">rate :\"))\n",
    "simple_intrest(principal, time, rate)\n",
    "simple_intrest(principal, time)\n"
   ]
  },
  {
   "cell_type": "code",
   "execution_count": 128,
   "metadata": {},
   "outputs": [
    {
     "name": "stdout",
     "output_type": "stream",
     "text": [
      "sum is : 8369\n",
      "sum is : 481\n",
      "sum is : 4169\n"
     ]
    }
   ],
   "source": [
    "#function program 6\n",
    "def sum(*args):\n",
    "    result = 0\n",
    "    for i in args:\n",
    "        result += i\n",
    "    return result\n",
    "print(\"sum is :\",sum(24,457,34,7854))\n",
    "print(\"sum is :\",sum(24,457))\n",
    "print(\"sum is :\",sum(24,457,34,50,40,680,2884))"
   ]
  },
  {
   "cell_type": "code",
   "execution_count": null,
   "metadata": {},
   "outputs": [],
   "source": []
  }
 ],
 "metadata": {
  "kernelspec": {
   "display_name": "Python 3",
   "language": "python",
   "name": "python3"
  },
  "language_info": {
   "codemirror_mode": {
    "name": "ipython",
    "version": 3
   },
   "file_extension": ".py",
   "mimetype": "text/x-python",
   "name": "python",
   "nbconvert_exporter": "python",
   "pygments_lexer": "ipython3",
   "version": "3.7.3"
  }
 },
 "nbformat": 4,
 "nbformat_minor": 2
}
