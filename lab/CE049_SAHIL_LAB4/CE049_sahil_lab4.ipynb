{
 "cells": [
  {
   "cell_type": "code",
   "execution_count": 2,
   "metadata": {},
   "outputs": [
    {
     "name": "stdout",
     "output_type": "stream",
     "text": [
      "2\n",
      "1\n"
     ]
    }
   ],
   "source": [
    "from Counter import Count\n",
    "\n",
    "class CounterDown(Count):\n",
    "    def CountDown(self):\n",
    "        self.count -= 1\n",
    "        print(self.count)\n",
    "    def count_up(self):\n",
    "        self.count = self.count + 2\n",
    "        print(self.count)\n",
    "c = CounterDown()\n",
    "c.count_up()\n",
    "c.CountDown()"
   ]
  },
  {
   "cell_type": "code",
   "execution_count": 41,
   "metadata": {},
   "outputs": [
    {
     "name": "stdout",
     "output_type": "stream",
     "text": [
      "false\n",
      "true\n",
      "false\n"
     ]
    }
   ],
   "source": [
    "class Exam:\n",
    "    sub1=0\n",
    "    sub2=0 \n",
    "    sub3=0\n",
    "    def __init__(self,mark1,mark2,mark3):\n",
    "        self.sub1 = mark1\n",
    "        self.sub2 = mark2\n",
    "        self.sub3 = mark3\n",
    "        self.total = self.sub1 + self.sub2 + self.sub3\n",
    "    def __gt__(self,e):\n",
    "        if self.total > e.total:\n",
    "            return \"true\"\n",
    "        else:\n",
    "            return \"false\"\n",
    "    def __lt__(self,e):\n",
    "        if self.total < e.total:\n",
    "            return \"true\"\n",
    "        else:\n",
    "            return \"false\"\n",
    "    def __eq__(self,e):\n",
    "        if self.total == e.total:\n",
    "            return \"true\"\n",
    "        else:\n",
    "            return \"false\"\n",
    "\n",
    "e1 = Exam(30,40,50)\n",
    "e2 = Exam(35,45,60)\n",
    "print(e1>e2)\n",
    "print(e1<e2)\n",
    "print(e1==e2)"
   ]
  },
  {
   "cell_type": "code",
   "execution_count": 8,
   "metadata": {},
   "outputs": [
    {
     "name": "stdout",
     "output_type": "stream",
     "text": [
      "addition is:46\n",
      "division is :5.0\n",
      "subtraction is :-53\n",
      "multiplication is :104\n"
     ]
    }
   ],
   "source": [
    "from Calculater import addition\n",
    "from Calculater.division import division\n",
    "from Calculater.multipliy import multiply\n",
    "from Calculater.sub import sub\n",
    "\n",
    "\n",
    "print(f\"addition is:{addition.add(12, 34)}\")\n",
    "print(f\"division is :{division(10, 2)}\")\n",
    "print(f\"subtraction is :{sub(45,98)}\")\n",
    "print(f\"multiplication is :{multiply(2,52)}\")\n"
   ]
  },
  {
   "cell_type": "code",
   "execution_count": null,
   "metadata": {},
   "outputs": [],
   "source": []
  }
 ],
 "metadata": {
  "kernelspec": {
   "display_name": "Python 3",
   "language": "python",
   "name": "python3"
  },
  "language_info": {
   "codemirror_mode": {
    "name": "ipython",
    "version": 3
   },
   "file_extension": ".py",
   "mimetype": "text/x-python",
   "name": "python",
   "nbconvert_exporter": "python",
   "pygments_lexer": "ipython3",
   "version": "3.7.3"
  }
 },
 "nbformat": 4,
 "nbformat_minor": 2
}
