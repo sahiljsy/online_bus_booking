{
 "cells": [
  {
   "cell_type": "code",
   "execution_count": 32,
   "metadata": {},
   "outputs": [
    {
     "name": "stdout",
     "output_type": "stream",
     "text": [
      "enter number125\n",
      "125\n"
     ]
    }
   ],
   "source": [
    "#programe 1\n",
    "n=input(\"enter number\")\n",
    "if int(n)>0:\n",
    "    print(n)"
   ]
  },
  {
   "cell_type": "code",
   "execution_count": 31,
   "metadata": {},
   "outputs": [
    {
     "name": "stdout",
     "output_type": "stream",
     "text": [
      "enter avg marks50\n",
      "Congratulations!!!You have passed exam sucessfully!\n"
     ]
    }
   ],
   "source": [
    "#programe 2\n",
    "avg_marks=input(\"enter avg marks\")\n",
    "if int(avg_marks)>40:\n",
    "    print(\"Congratulations!!!You have passed exam sucessfully!\")\n",
    "else:\n",
    "    print(\"Sorry!!!Better luck next time.\")"
   ]
  },
  {
   "cell_type": "code",
   "execution_count": 34,
   "metadata": {},
   "outputs": [
    {
     "name": "stdout",
     "output_type": "stream",
     "text": [
      "90\n",
      "91\n",
      "89\n",
      "92\n",
      "94\n",
      "your garde is:\n",
      "distinction!!!\n"
     ]
    }
   ],
   "source": [
    "#programe 3\n",
    "s1=int(input())\n",
    "s2=int(input())\n",
    "s3=int(input())\n",
    "s4=int(input())\n",
    "s5=int(input())\n",
    "total=s1+s2+s3+s4+s5\n",
    "avg=total/5\n",
    "print(\"your garde is:\")\n",
    "if avg>70:\n",
    "    print(\"distinction!!!\")\n",
    "elif avg>60 and avg<=70:\n",
    "    print(\"First class\")\n",
    "elif avg>40 and avg<=60:\n",
    "    print(\"Second class\")\n",
    "else:\n",
    "    print(\"Sorry!!better luck next time!!\")"
   ]
  },
  {
   "cell_type": "code",
   "execution_count": 36,
   "metadata": {},
   "outputs": [
    {
     "name": "stdout",
     "output_type": "stream",
     "text": [
      "58\n",
      "45\n",
      "98\n",
      "98 is large number\n"
     ]
    }
   ],
   "source": [
    "#programe 4\n",
    "n1=int(input())\n",
    "n2=int(input())\n",
    "n3=int(input())\n",
    "large=0\n",
    "if n1>n2 and n1>n3:\n",
    "    large=n1\n",
    "elif n2>n1 and n2>n3:\n",
    "    large=n2\n",
    "else:\n",
    "    large=n3\n",
    "print(str(large)+ \" is large number\")\n",
    "    "
   ]
  },
  {
   "cell_type": "code",
   "execution_count": 15,
   "metadata": {},
   "outputs": [
    {
     "name": "stdout",
     "output_type": "stream",
     "text": [
      "-5 is negative number\n"
     ]
    }
   ],
   "source": [
    "#programe 5\n",
    "a=-5\n",
    "if a>0:\n",
    "    if a%2==0:\n",
    "        print(str(a)+\" is a even positive number\")\n",
    "else:\n",
    "    print(str(a)+\" is negative number\")  #reason for outout: -5 is negative so control goes in else"
   ]
  },
  {
   "cell_type": "code",
   "execution_count": 16,
   "metadata": {},
   "outputs": [
    {
     "name": "stdout",
     "output_type": "stream",
     "text": [
      "5 is odd number\n"
     ]
    }
   ],
   "source": [
    "#programe 5\n",
    "a=5\n",
    "if a>0:\n",
    "    if a%2==0:\n",
    "        print(str(a)+\" is a even positive number\")\n",
    "    else:\n",
    "        print(str(a)+\" is odd number\")   #reason for output: 5 is positive so its goes inner if and its odd number so goes in else part"
   ]
  },
  {
   "cell_type": "code",
   "execution_count": 23,
   "metadata": {},
   "outputs": [
    {
     "name": "stdout",
     "output_type": "stream",
     "text": [
      "1111   23   0b10111\n",
      "3333   5   0b101\n",
      "1235   19   0b10011\n",
      "2378   10   0b1010\n",
      "1212   60   0b111100\n",
      "1456   48   0b110000\n",
      "2134   22   0b10110\n",
      "2345   41   0b101001\n",
      "1111   23   0b10111\n",
      "8231   39   0b100111\n",
      "2222   46   0b101110\n",
      "9999   15   0b1111\n"
     ]
    }
   ],
   "source": [
    "#programe 6\n",
    "for i in[1111,3333,1235,2378,1212,1456,2134,2345,1111,8231,2222,9999]:\n",
    "    b=i%64\n",
    "    print(str(i),\" \",b,\" \",bin(b))\n",
    "   "
   ]
  },
  {
   "cell_type": "code",
   "execution_count": 28,
   "metadata": {},
   "outputs": [
    {
     "name": "stdout",
     "output_type": "stream",
     "text": [
      "Enter a number: 5\n",
      "5 is a prime number\n"
     ]
    }
   ],
   "source": [
    "#programe 7\n",
    "num = int(input(\"Enter a number: \"))  \n",
    "  \n",
    "if num > 1:  \n",
    "   for i in range(2,num):  \n",
    "       if (num % i) == 0:  \n",
    "           print(num,\"is not a prime number\")  \n",
    "           print(i,\"times\",num//i,\"is\",num)  \n",
    "           break  \n",
    "   else:  \n",
    "       print(num,\"is a prime number\")   "
   ]
  },
  {
   "cell_type": "code",
   "execution_count": 33,
   "metadata": {},
   "outputs": [
    {
     "name": "stdout",
     "output_type": "stream",
     "text": [
      "Enter upper range: 200\n",
      "1\n",
      "64\n",
      "125\n",
      "153\n"
     ]
    }
   ],
   "source": [
    " #programe 8 \n",
    "limit = int(input(\"Enter upper range: \"))  \n",
    "  \n",
    "for num in range(1,limit + 1):  \n",
    "   sum = 0  \n",
    "   temp = num  \n",
    "   while temp > 0:  \n",
    "       digit = temp % 10  \n",
    "       sum += digit ** 3  \n",
    "       temp //= 10  \n",
    "       if num == sum:  \n",
    "            print(num)"
   ]
  },
  {
   "cell_type": "code",
   "execution_count": 2,
   "metadata": {},
   "outputs": [
    {
     "name": "stdout",
     "output_type": "stream",
     "text": [
      "1\n",
      "2\n",
      "3\n",
      "4\n"
     ]
    }
   ],
   "source": [
    "for i in range(1,5):\n",
    "    print(i)"
   ]
  },
  {
   "cell_type": "code",
   "execution_count": null,
   "metadata": {},
   "outputs": [],
   "source": []
  }
 ],
 "metadata": {
  "kernelspec": {
   "display_name": "Python 3",
   "language": "python",
   "name": "python3"
  },
  "language_info": {
   "codemirror_mode": {
    "name": "ipython",
    "version": 3
   },
   "file_extension": ".py",
   "mimetype": "text/x-python",
   "name": "python",
   "nbconvert_exporter": "python",
   "pygments_lexer": "ipython3",
   "version": "3.7.3"
  }
 },
 "nbformat": 4,
 "nbformat_minor": 2
}
