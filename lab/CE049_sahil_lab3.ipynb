{
 "cells": [
  {
   "cell_type": "markdown",
   "metadata": {},
   "source": [
    "# lab3 "
   ]
  },
  {
   "cell_type": "code",
   "execution_count": 4,
   "metadata": {},
   "outputs": [
    {
     "name": "stdout",
     "output_type": "stream",
     "text": [
      "Enter file name: thoughts\n",
      "your : 2\n",
      "heart : 1\n",
      "contains : 1\n",
      "that : 2\n",
      "gigantic : 1\n",
      "ocean : 1\n",
      "we : 2\n",
      "call : 1\n",
      "love. : 1\n",
      "the : 1\n",
      "key : 1\n",
      "is : 3\n",
      "in : 3\n",
      "hands. : 1\n",
      "see : 1\n",
      "shortcomings : 2\n",
      "others : 1\n",
      "only : 1\n",
      "at : 1\n",
      "time : 1\n",
      "when : 1\n",
      "those : 1\n",
      "are : 1\n",
      "present : 1\n",
      "ourselves. : 1\n",
      "a : 2\n",
      "cage : 1\n",
      "still : 1\n",
      "cage, : 1\n",
      "even : 1\n",
      "if : 1\n",
      "it : 1\n",
      "golden. : 1\n"
     ]
    }
   ],
   "source": [
    "#problem 1\n",
    "fname = input(\"Enter file name: \")\n",
    "d= dict()\n",
    "with open(fname, 'r') as f:\n",
    "    for line in f:\n",
    "        line = line.lower()\n",
    "        words = line.split()\n",
    "        for i in words:\n",
    "            if i in d: \n",
    "                d[i] += 1\n",
    "            else: \n",
    "                d[i] = 1\n",
    "                \n",
    "for key in list(d.keys()): \n",
    "    print(key, \":\", d[key]) "
   ]
  },
  {
   "cell_type": "code",
   "execution_count": 7,
   "metadata": {},
   "outputs": [
    {
     "name": "stdout",
     "output_type": "stream",
     "text": [
      "Enter file name: try.c\n",
      "containt of original file :\n",
      "#include<stdio.h>\n",
      "int main()\n",
      "{\n",
      "\t// we are in main\n",
      "\tint i=10;\n",
      "\tprintf(\"%d\",i)\n",
      "}\n",
      "\n",
      "containt of copied file :\n",
      "#include<stdio.h> \n",
      "int main() \n",
      "{ \n",
      "\n",
      "int i=10; \n",
      "printf(\"%d\",i) \n",
      "} \n",
      "\n"
     ]
    }
   ],
   "source": [
    "#problem 2\n",
    "fname = input(\"Enter file name: \")\n",
    "with open(fname, 'r') as f:\n",
    "    with open(\"sample.txt\", \"w+\") as f1:\n",
    "        print(\"containt of original file :\")\n",
    "        print(f.read())\n",
    "        f.seek(0,0)\n",
    "        for line in f: \n",
    "            words = line.split()\n",
    "            for i in words:\n",
    "                if(i==\"//\"):\n",
    "                    break\n",
    "                else:\n",
    "                    f1.write(i)\n",
    "                    f1.write(\" \")\n",
    "            f1.write(\"\\n\")\n",
    "        print(\"containt of copied file :\")\n",
    "        f1.seek(0,0)\n",
    "        print(f1.read())\n",
    "    \n",
    "\n",
    "\n",
    "        \n",
    "\n",
    "        \n"
   ]
  },
  {
   "cell_type": "code",
   "execution_count": 65,
   "metadata": {},
   "outputs": [],
   "source": [
    "#problem 3\n",
    "import csv\n",
    "with open('student.csv', 'w', newline='') as file:\n",
    "    writer = csv.writer(file)\n",
    "    writer.writerow([\"s_id\", \"name\", \"age\", \"percentage\"])\n",
    "    writer.writerow([1, \" sahil\", \"18\",    \"90%\"])\n",
    "    writer.writerow([2, \" Harry\", \"18\",    \"85%\"])\n",
    "    \n"
   ]
  },
  {
   "cell_type": "code",
   "execution_count": 44,
   "metadata": {},
   "outputs": [
    {
     "name": "stdout",
     "output_type": "stream",
     "text": [
      "['s_id', 'name', 'age', 'percentage']\n",
      "['1', ' sahil', '18', '90%']\n",
      "['2', ' Harry', '18', '85%']\n",
      "\n",
      "we have 2 students record\n"
     ]
    }
   ],
   "source": [
    "#problem 4\n",
    "import csv\n",
    "count = -1\n",
    "with open('student.csv', 'r') as file:\n",
    "    reader = csv.reader(file)\n",
    "    for row in reader:\n",
    "        count += 1\n",
    "        print(row)\n",
    "print()       \n",
    "print(f\"we have {count} students record\")"
   ]
  },
  {
   "cell_type": "markdown",
   "metadata": {},
   "source": [
    "# problem 5"
   ]
  },
  {
   "cell_type": "code",
   "execution_count": 4,
   "metadata": {},
   "outputs": [
    {
     "name": "stdout",
     "output_type": "stream",
     "text": [
      "1 2 3\n"
     ]
    }
   ],
   "source": [
    "# we are writing \"1 2 3\" as a string in file\n",
    "with open('myfile.txt', 'w+') as f1:\n",
    "    f1.write(\"1 2 3\")\n",
    "    f1.seek(0,0)\n",
    "    print(f1.read())"
   ]
  },
  {
   "cell_type": "code",
   "execution_count": 6,
   "metadata": {},
   "outputs": [
    {
     "name": "stdout",
     "output_type": "stream",
     "text": [
      "Could not convert data to an integer.\n"
     ]
    }
   ],
   "source": [
    "import sys\n",
    "try:\n",
    "    f = open('myfile.txt')\n",
    "    s = f.readline()\n",
    "    i = int(s.strip()) \n",
    "    #can not convert to int bcz strip method can remove space from begin and end  so \"1 2 3\" can not convert to int   \n",
    "    print(i)\n",
    "except OSError as err:\n",
    "    print(\"OS error: {0}\".format(err))\n",
    "except ValueError:\n",
    "    print(\"Could not convert data to an integer.\")\n",
    "except:\n",
    "    print(\"Unexpected error:\", sys.exc_info()[0])\n",
    "    raise"
   ]
  },
  {
   "cell_type": "code",
   "execution_count": 1,
   "metadata": {},
   "outputs": [
    {
     "name": "stdout",
     "output_type": "stream",
     "text": [
      "123\n"
     ]
    }
   ],
   "source": [
    "with open('myfile.txt', 'w+') as f1:\n",
    "    f1.write(\"123\")\n",
    "    f1.seek(0,0)\n",
    "    print(f1.read())"
   ]
  },
  {
   "cell_type": "code",
   "execution_count": 4,
   "metadata": {},
   "outputs": [
    {
     "name": "stdout",
     "output_type": "stream",
     "text": [
      "123\n"
     ]
    }
   ],
   "source": [
    "import sys\n",
    "try:\n",
    "    f=open(\"myfile.txt\")\n",
    "    s=f.readline()\n",
    "    i=int(s.strip())\n",
    "    print(i)\n",
    "except OSError as err:\n",
    "    print(\"OS error : {0}\",format(error))\n",
    "except ValueError as err:\n",
    "    print(\"Could not convert data in to integer\")\n",
    "except:\n",
    "    print(\"Unexcepted error :\",sys.exc_info()[0])\n",
    "    raise         \n",
    "\n",
    "    "
   ]
  },
  {
   "cell_type": "code",
   "execution_count": 7,
   "metadata": {},
   "outputs": [
    {
     "name": "stdout",
     "output_type": "stream",
     "text": [
      "Unexcepted error : <class 'AttributeError'>\n"
     ]
    },
    {
     "ename": "AttributeError",
     "evalue": "'_io.TextIOWrapper' object has no attribute 'raedline'",
     "output_type": "error",
     "traceback": [
      "\u001b[0;31m---------------------------------------------------------------------------\u001b[0m",
      "\u001b[0;31mAttributeError\u001b[0m                            Traceback (most recent call last)",
      "\u001b[0;32m<ipython-input-7-88004ebc594e>\u001b[0m in \u001b[0;36m<module>\u001b[0;34m\u001b[0m\n\u001b[1;32m      2\u001b[0m \u001b[0;32mtry\u001b[0m\u001b[0;34m:\u001b[0m\u001b[0;34m\u001b[0m\u001b[0;34m\u001b[0m\u001b[0m\n\u001b[1;32m      3\u001b[0m     \u001b[0mf\u001b[0m\u001b[0;34m=\u001b[0m\u001b[0mopen\u001b[0m\u001b[0;34m(\u001b[0m\u001b[0;34m\"myfile.txt\"\u001b[0m\u001b[0;34m)\u001b[0m\u001b[0;34m\u001b[0m\u001b[0;34m\u001b[0m\u001b[0m\n\u001b[0;32m----> 4\u001b[0;31m     \u001b[0ms\u001b[0m\u001b[0;34m=\u001b[0m\u001b[0mf\u001b[0m\u001b[0;34m.\u001b[0m\u001b[0mraedline\u001b[0m\u001b[0;34m(\u001b[0m\u001b[0;34m)\u001b[0m\u001b[0;34m\u001b[0m\u001b[0;34m\u001b[0m\u001b[0m\n\u001b[0m\u001b[1;32m      5\u001b[0m     \u001b[0mi\u001b[0m\u001b[0;34m=\u001b[0m\u001b[0mint\u001b[0m\u001b[0;34m(\u001b[0m\u001b[0ms\u001b[0m\u001b[0;34m.\u001b[0m\u001b[0mstrip\u001b[0m\u001b[0;34m(\u001b[0m\u001b[0;34m)\u001b[0m\u001b[0;34m)\u001b[0m\u001b[0;34m\u001b[0m\u001b[0;34m\u001b[0m\u001b[0m\n\u001b[1;32m      6\u001b[0m     \u001b[0mprint\u001b[0m\u001b[0;34m(\u001b[0m\u001b[0mi\u001b[0m\u001b[0;34m)\u001b[0m\u001b[0;34m\u001b[0m\u001b[0;34m\u001b[0m\u001b[0m\n",
      "\u001b[0;31mAttributeError\u001b[0m: '_io.TextIOWrapper' object has no attribute 'raedline'"
     ]
    }
   ],
   "source": [
    "import sys\n",
    "try:\n",
    "    f=open(\"myfile.txt\")\n",
    "    s=f.raedline()      #spell mistake so its raise the error of AttributeError\n",
    "    i=int(s.strip())\n",
    "    print(i)\n",
    "except OSError as err:\n",
    "    print(\"OS error : {0}\",format(error))\n",
    "except ValueError as err:\n",
    "    print(\"Could not convert data in to integer\")\n",
    "except:\n",
    "    print(\"Unexcepted error :\",sys.exc_info()[0])\n",
    "    raise         #here we are trying to force the program to raise the error though it has handled\n",
    "\n",
    "    "
   ]
  },
  {
   "cell_type": "markdown",
   "metadata": {},
   "source": [
    "# problem 6"
   ]
  },
  {
   "cell_type": "code",
   "execution_count": 9,
   "metadata": {},
   "outputs": [
    {
     "name": "stdout",
     "output_type": "stream",
     "text": [
      "{'name': 'John', 'age': 30, 'city': 'New York'}\n",
      "30\n"
     ]
    }
   ],
   "source": [
    "import json\n",
    "x =  '{ \"name\":\"John\", \"age\":30, \"city\":\"New York\"}'\n",
    "y = json.loads(x)\n",
    "print(y)\n",
    "print(y[\"age\"])"
   ]
  },
  {
   "cell_type": "code",
   "execution_count": 8,
   "metadata": {},
   "outputs": [
    {
     "name": "stdout",
     "output_type": "stream",
     "text": [
      "{'name': 'John', 'age': 30, 'city': 'New York'}\n",
      "{\"name\": \"John\", \"age\": 30, \"city\": \"New York\"}\n"
     ]
    }
   ],
   "source": [
    "import json\n",
    "\n",
    "# a Python object (dict):\n",
    "x = {\n",
    "  \"name\": \"John\",\n",
    "  \"age\": 30,\n",
    "  \"city\": \"New York\"\n",
    "}\n",
    "# convert into JSON:\n",
    "y = json.dumps(x)\n",
    "\n",
    "# the result is a JSON string:\n",
    "print(y)\n",
    "#print(y[age])"
   ]
  },
  {
   "cell_type": "code",
   "execution_count": 63,
   "metadata": {},
   "outputs": [
    {
     "data": {
      "text/plain": [
       "'{\"name\": \"John\", \"age\": 30, \"married\": true, \"divorced\": false, \"children\": [\"Ann\", \"Billy\"], \"pets\": null, \"cars\": [{\"model\": \"BMW 230\", \"mpg\": 27.5}, {\"model\": \"Ford Edge\", \"mpg\": 24.1}]}'"
      ]
     },
     "execution_count": 63,
     "metadata": {},
     "output_type": "execute_result"
    }
   ],
   "source": [
    "x = {\n",
    "  \"name\": \"John\",\n",
    "  \"age\": 30,\n",
    "  \"married\": True,\n",
    "  \"divorced\": False,\n",
    "  \"children\": (\"Ann\",\"Billy\"),\n",
    "  \"pets\": None,\n",
    "  \"cars\": [\n",
    "    {\"model\": \"BMW 230\", \"mpg\": 27.5},\n",
    "    {\"model\": \"Ford Edge\", \"mpg\": 24.1}\n",
    "  ]\n",
    "}\n",
    "\n",
    "json.dumps(x)\n"
   ]
  },
  {
   "cell_type": "code",
   "execution_count": 1,
   "metadata": {},
   "outputs": [
    {
     "ename": "ModuleNotFoundError",
     "evalue": "No module named 'pandas'",
     "output_type": "error",
     "traceback": [
      "\u001b[0;31m---------------------------------------------------------------------------\u001b[0m",
      "\u001b[0;31mModuleNotFoundError\u001b[0m                       Traceback (most recent call last)",
      "\u001b[0;32m<ipython-input-1-b2ff39c7619f>\u001b[0m in \u001b[0;36m<module>\u001b[0;34m\u001b[0m\n\u001b[0;32m----> 1\u001b[0;31m \u001b[0;32mimport\u001b[0m \u001b[0mpandas\u001b[0m \u001b[0;32mas\u001b[0m \u001b[0mpd\u001b[0m\u001b[0;34m\u001b[0m\u001b[0;34m\u001b[0m\u001b[0m\n\u001b[0m\u001b[1;32m      2\u001b[0m \u001b[0mfd\u001b[0m \u001b[0;34m=\u001b[0m \u001b[0mpd\u001b[0m\u001b[0;34m.\u001b[0m\u001b[0mread_csv\u001b[0m\u001b[0;34m(\u001b[0m\u001b[0;34m'student.csv'\u001b[0m\u001b[0;34m)\u001b[0m\u001b[0;34m\u001b[0m\u001b[0;34m\u001b[0m\u001b[0m\n\u001b[1;32m      3\u001b[0m \u001b[0mfd\u001b[0m\u001b[0;34m\u001b[0m\u001b[0;34m\u001b[0m\u001b[0m\n",
      "\u001b[0;31mModuleNotFoundError\u001b[0m: No module named 'pandas'"
     ]
    }
   ],
   "source": [
    "import pandas as pd\n",
    "fd = pd.read_csv('student.csv')\n",
    "fd"
   ]
  },
  {
   "cell_type": "code",
   "execution_count": null,
   "metadata": {},
   "outputs": [],
   "source": []
  }
 ],
 "metadata": {
  "kernelspec": {
   "display_name": "Python 3",
   "language": "python",
   "name": "python3"
  },
  "language_info": {
   "codemirror_mode": {
    "name": "ipython",
    "version": 3
   },
   "file_extension": ".py",
   "mimetype": "text/x-python",
   "name": "python",
   "nbconvert_exporter": "python",
   "pygments_lexer": "ipython3",
   "version": "3.7.3"
  }
 },
 "nbformat": 4,
 "nbformat_minor": 2
}
